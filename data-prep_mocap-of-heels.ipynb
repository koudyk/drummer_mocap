{
 "cells": [
  {
   "cell_type": "markdown",
   "id": "7d75b212",
   "metadata": {},
   "source": [
    "In this file, I prepare the data for the height of the left and right heels.\n",
    "This involves\n",
    "- loading the data from the c3d files\n",
    "- selecting the relevant portion of the timeseries (because the recording started before the drummer began playing and ended after they finished)\n",
    "- normalizing the data by subtracting the minimum height\n",
    "- saving the data as two csv files (one for right, one for left heels), where \n",
    "    - rows are participants, \n",
    "    - columns are songs, and \n",
    "    - each cell contains the time series for the given heel height.\n"
   ]
  },
  {
   "cell_type": "code",
   "execution_count": 4,
   "id": "85ae8b0d",
   "metadata": {},
   "outputs": [],
   "source": [
    "from pathlib import Path\n",
    "import numpy as np\n",
    "import pandas as pd\n",
    "import pyc3dserver as c3d\n",
    "%matplotlib inline\n",
    "\n",
    "import utils"
   ]
  },
  {
   "cell_type": "markdown",
   "id": "ae3385ac",
   "metadata": {},
   "source": [
    "Some useful functions"
   ]
  },
  {
   "cell_type": "code",
   "execution_count": 5,
   "id": "e47f0977",
   "metadata": {},
   "outputs": [],
   "source": [
    "# load data and parameters\n",
    "participant_folders = utils.get_participants_data_folders()\n",
    "participant_numbers = utils.load_participant_numbers()\n",
    "song_genres = utils.load_song_genres()\n",
    "song_names = utils.load_song_names()\n",
    "z_dim = utils.zdim() # up and down"
   ]
  },
  {
   "cell_type": "code",
   "execution_count": 6,
   "id": "4bbcb8f4",
   "metadata": {
    "scrolled": true
   },
   "outputs": [
    {
     "name": "stdout",
     "output_type": "stream",
     "text": [
      "=============================================\n",
      "Evaluation C3Dserver\n",
      "Version:  1.203\n",
      "User:  Demonstration Copy\n",
      "Organization:  Motion Lab Systems, Inc.\n",
      "=============================================\n",
      "C:\\Users\\kendr\\Desktop\\drummer_mocap_project\\data\\final_data\\P1-Filled-In\\220127-P1-01-Bloodline-filled.c3d\n",
      "C:\\Users\\kendr\\Desktop\\drummer_mocap_project\\data\\final_data\\P1-Filled-In\\220127-P1-02-BackInBlack-filled.c3d\n",
      "C:\\Users\\kendr\\Desktop\\drummer_mocap_project\\data\\final_data\\P1-Filled-In\\220127-P1-03-Juju-filled.c3d\n",
      "C:\\Users\\kendr\\Desktop\\drummer_mocap_project\\data\\final_data\\P1-Filled-In\\220127-P1-04-SoWhat-filled.c3d\n",
      "C:\\Users\\kendr\\Desktop\\drummer_mocap_project\\data\\final_data\\P1-Filled-In\\220127-P1-05-TheOcean-filled.c3d\n",
      "C:\\Users\\kendr\\Desktop\\drummer_mocap_project\\data\\final_data\\P1-Filled-In\\220127-P1-06-GoIntoTheWater-filled.c3d\n",
      "C:\\Users\\kendr\\Desktop\\drummer_mocap_project\\data\\final_data\\P2-Filled-in\\220127-P2-01-TheOcean-Filled.c3d\n",
      "C:\\Users\\kendr\\Desktop\\drummer_mocap_project\\data\\final_data\\P2-Filled-in\\220127-P2-02-Juju-Filled.c3d\n",
      "C:\\Users\\kendr\\Desktop\\drummer_mocap_project\\data\\final_data\\P2-Filled-in\\220127-P2-03-BackInBlack-Filled.c3d\n",
      "C:\\Users\\kendr\\Desktop\\drummer_mocap_project\\data\\final_data\\P2-Filled-in\\220127-P2-04-Bloodline-Filled.c3d\n",
      "C:\\Users\\kendr\\Desktop\\drummer_mocap_project\\data\\final_data\\P2-Filled-in\\220127-P2-05-SoWhat-Filled.c3d\n",
      "C:\\Users\\kendr\\Desktop\\drummer_mocap_project\\data\\final_data\\P2-Filled-in\\220127-P2-06-GoIntoTheWater-Filled.c3d\n",
      "C:\\Users\\kendr\\Desktop\\drummer_mocap_project\\data\\final_data\\P3-Filled-In\\220128-P3-01-Bloodline-filled.c3d\n",
      "C:\\Users\\kendr\\Desktop\\drummer_mocap_project\\data\\final_data\\P3-Filled-In\\220128-P3-02-TheOcean-filled.c3d\n",
      "C:\\Users\\kendr\\Desktop\\drummer_mocap_project\\data\\final_data\\P3-Filled-In\\220128-P3-03-Juju-filled.c3d\n",
      "C:\\Users\\kendr\\Desktop\\drummer_mocap_project\\data\\final_data\\P3-Filled-In\\220128-P3-04-SoWhat-filled.c3d\n",
      "C:\\Users\\kendr\\Desktop\\drummer_mocap_project\\data\\final_data\\P3-Filled-In\\220128-P3-05-GoIntoTheWater-filled.c3d\n",
      "C:\\Users\\kendr\\Desktop\\drummer_mocap_project\\data\\final_data\\P3-Filled-In\\220128-P3-06-BackInBlack-filled.c3d\n",
      "C:\\Users\\kendr\\Desktop\\drummer_mocap_project\\data\\final_data\\P4-Filled-in\\220128-P4-01-SoWhat-Filled.c3d\n",
      "C:\\Users\\kendr\\Desktop\\drummer_mocap_project\\data\\final_data\\P4-Filled-in\\220128-P4-02-Juju-Filled.c3d\n",
      "C:\\Users\\kendr\\Desktop\\drummer_mocap_project\\data\\final_data\\P4-Filled-in\\220128-P4-03-GoIntoTheWater-Filled.c3d\n",
      "C:\\Users\\kendr\\Desktop\\drummer_mocap_project\\data\\final_data\\P4-Filled-in\\220128-P4-04-BackInBlack-Filled.c3d\n",
      "C:\\Users\\kendr\\Desktop\\drummer_mocap_project\\data\\final_data\\P4-Filled-in\\220128-P4-05-Bloodline-Filled.c3d\n",
      "C:\\Users\\kendr\\Desktop\\drummer_mocap_project\\data\\final_data\\P4-Filled-in\\220128-P4-06-TheOcean-Filled.c3d\n",
      "C:\\Users\\kendr\\Desktop\\drummer_mocap_project\\data\\final_data\\P5-Filled-In\\220202-P5-01-SoWhat-Filled.c3d\n",
      "C:\\Users\\kendr\\Desktop\\drummer_mocap_project\\data\\final_data\\P5-Filled-In\\220202-P5-02-GoIntoTheWater-Filled.c3d\n",
      "C:\\Users\\kendr\\Desktop\\drummer_mocap_project\\data\\final_data\\P5-Filled-In\\220202-P5-03-Bloodline-Filled.c3d\n",
      "C:\\Users\\kendr\\Desktop\\drummer_mocap_project\\data\\final_data\\P5-Filled-In\\220202-P5-04-TheOcean-Filled.c3d\n",
      "C:\\Users\\kendr\\Desktop\\drummer_mocap_project\\data\\final_data\\P5-Filled-In\\220202-P5-05-BackInBlack-Filled.c3d\n",
      "C:\\Users\\kendr\\Desktop\\drummer_mocap_project\\data\\final_data\\P5-Filled-In\\220202-P5-06-Juju-Filled.c3d\n",
      "C:\\Users\\kendr\\Desktop\\drummer_mocap_project\\data\\final_data\\P6-Filled-In\\220202-P6-01-BackInBlack-filled.c3d\n",
      "C:\\Users\\kendr\\Desktop\\drummer_mocap_project\\data\\final_data\\P6-Filled-In\\220202-P6-02-TheOcean-filled.c3d\n",
      "C:\\Users\\kendr\\Desktop\\drummer_mocap_project\\data\\final_data\\P6-Filled-In\\220202-P6-03-SoWhat-filled.c3d\n",
      "C:\\Users\\kendr\\Desktop\\drummer_mocap_project\\data\\final_data\\P6-Filled-In\\220202-P6-04-Bloodline-filled.c3d\n",
      "C:\\Users\\kendr\\Desktop\\drummer_mocap_project\\data\\final_data\\P6-Filled-In\\220202-P6-05-GoIntoTheWater-filled.c3d\n",
      "C:\\Users\\kendr\\Desktop\\drummer_mocap_project\\data\\final_data\\P6-Filled-In\\220202-P6-06-Juju-filled.c3d\n",
      "C:\\Users\\kendr\\Desktop\\drummer_mocap_project\\data\\final_data\\P7-Filled-In\\220202-P7-01-Juju-filled.c3d\n",
      "C:\\Users\\kendr\\Desktop\\drummer_mocap_project\\data\\final_data\\P7-Filled-In\\220202-P7-02-GoIntoTheWater-filled.c3d\n",
      "C:\\Users\\kendr\\Desktop\\drummer_mocap_project\\data\\final_data\\P7-Filled-In\\220202-P7-03-SoWhat-filled.c3d\n",
      "C:\\Users\\kendr\\Desktop\\drummer_mocap_project\\data\\final_data\\P7-Filled-In\\220202-P7-04-TheOcean-filled.c3d\n",
      "C:\\Users\\kendr\\Desktop\\drummer_mocap_project\\data\\final_data\\P7-Filled-In\\220202-P7-05-Bloodline-filled.c3d\n",
      "C:\\Users\\kendr\\Desktop\\drummer_mocap_project\\data\\final_data\\P7-Filled-In\\220202-P7-06-BackInBlack-filled.c3d\n",
      "C:\\Users\\kendr\\Desktop\\drummer_mocap_project\\data\\final_data\\P8-Filled-In\\220202-P8-01-GoIntoTheWater-filled.c3d\n",
      "C:\\Users\\kendr\\Desktop\\drummer_mocap_project\\data\\final_data\\P8-Filled-In\\220202-P8-02-Juju-filled.c3d\n",
      "C:\\Users\\kendr\\Desktop\\drummer_mocap_project\\data\\final_data\\P8-Filled-In\\220202-P8-03-Bloodline-filled.c3d\n",
      "C:\\Users\\kendr\\Desktop\\drummer_mocap_project\\data\\final_data\\P8-Filled-In\\220202-P8-04-TheOcean-filled.c3d\n",
      "C:\\Users\\kendr\\Desktop\\drummer_mocap_project\\data\\final_data\\P8-Filled-In\\220202-P8-05-SoWhat-filled.c3d\n",
      "C:\\Users\\kendr\\Desktop\\drummer_mocap_project\\data\\final_data\\P8-Filled-In\\220202-P8-06-BackInBlack-filled.c3d\n",
      "C:\\Users\\kendr\\Desktop\\drummer_mocap_project\\data\\final_data\\P9-Filled-in\\220203-P9-01-Juju-Filled.c3d\n",
      "C:\\Users\\kendr\\Desktop\\drummer_mocap_project\\data\\final_data\\P9-Filled-in\\220203-P9-02-Bloodline-Filled.c3d\n",
      "C:\\Users\\kendr\\Desktop\\drummer_mocap_project\\data\\final_data\\P9-Filled-in\\220203-P9-03-GoIntoTheWater-Filled.c3d\n",
      "C:\\Users\\kendr\\Desktop\\drummer_mocap_project\\data\\final_data\\P9-Filled-in\\220203-P9-04-TheOcean-Filled.c3d\n",
      "C:\\Users\\kendr\\Desktop\\drummer_mocap_project\\data\\final_data\\P9-Filled-in\\220203-P9-05-SoWhat-Filled.c3d\n",
      "C:\\Users\\kendr\\Desktop\\drummer_mocap_project\\data\\final_data\\P9-Filled-in\\220203-P9-06-BackInBlack-Filled.c3d\n"
     ]
    }
   ],
   "source": [
    "# initialize the dataframes where we'll store the data\n",
    "timeseries_l = pd.DataFrame(columns=song_names, index=participant_numbers)\n",
    "timeseries_l[song_names] = timeseries_l[song_names].astype(object) # because each cell will contain an array\n",
    "timeseries_r = timeseries_l.copy(deep=True)\n",
    "\n",
    "# Get the COM object of C3Dserver\n",
    "itf = c3d.c3dserver()\n",
    "\n",
    "for participant_folder in participant_folders:\n",
    "    # list all c3d files in directory\n",
    "    c3d_files = sorted(list(participant_folder.glob('*.c3d')))\n",
    "    \n",
    "    for file in c3d_files:\n",
    "        print(file)\n",
    "        # get the song and participant identifiers\n",
    "        song_name = utils.path_to_song_name(file)\n",
    "        song_number = utils.path_to_song_number(file)\n",
    "        participant_number = utils.path_to_participant_number(file)\n",
    "        \n",
    "        # get the data for the given file\n",
    "        ret = c3d.open_c3d(itf, file)\n",
    "        markers = c3d.get_dict_markers(itf)\n",
    "\n",
    "        # get the raw data for the given marker in the z-dimension\n",
    "        start_frame, end_frame = utils.get_start_end_frames(song_name, participant_number)\n",
    "        raw_l = markers['DATA']['POS']['LHLO'][start_frame : end_frame, z_dim]\n",
    "        raw_r = markers['DATA']['POS']['RHLO'][start_frame : end_frame, z_dim]\n",
    "\n",
    "        # normalize the data by subtracting the minimum height\n",
    "        normalized_l = raw_l - np.min(raw_l)\n",
    "        normalized_r = raw_r - np.min(raw_r)\n",
    "        \n",
    "        # store data\n",
    "        timeseries_l.loc[participant_number, song_name] = [list(normalized_l)]\n",
    "        timeseries_r.loc[participant_number, song_name] = [list(normalized_r)]"
   ]
  },
  {
   "cell_type": "code",
   "execution_count": 7,
   "id": "42e6f502",
   "metadata": {
    "scrolled": false
   },
   "outputs": [],
   "source": [
    "l_filename = Path().resolve().parent / \"data\" / \"data-prep_mocap-of-heels_left.csv\"\n",
    "timeseries_l.to_csv(l_filename, index=True)\n",
    "\n",
    "r_filename = Path().resolve().parent / \"data\" / \"data-prep_mocap-of-heels_right.csv\"\n",
    "timeseries_r.to_csv(r_filename, index=True)\n"
   ]
  }
 ],
 "metadata": {
  "kernelspec": {
   "display_name": "Python 3 (ipykernel)",
   "language": "python",
   "name": "python3"
  },
  "language_info": {
   "codemirror_mode": {
    "name": "ipython",
    "version": 3
   },
   "file_extension": ".py",
   "mimetype": "text/x-python",
   "name": "python",
   "nbconvert_exporter": "python",
   "pygments_lexer": "ipython3",
   "version": "3.9.7"
  }
 },
 "nbformat": 4,
 "nbformat_minor": 5
}
